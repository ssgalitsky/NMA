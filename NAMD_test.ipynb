{
  "nbformat": 4,
  "nbformat_minor": 0,
  "metadata": {
    "colab": {
      "name": "NAMD_test.ipynb",
      "provenance": [],
      "authorship_tag": "ABX9TyN+Jhq8UsiHPipCml7qPiYa",
      "include_colab_link": true
    },
    "kernelspec": {
      "name": "python3",
      "display_name": "Python 3"
    }
  },
  "cells": [
    {
      "cell_type": "markdown",
      "metadata": {
        "id": "view-in-github",
        "colab_type": "text"
      },
      "source": [
        "<a href=\"https://colab.research.google.com/github/ssgalitsky/NMA/blob/main/NAMD_test.ipynb\" target=\"_parent\"><img src=\"https://colab.research.google.com/assets/colab-badge.svg\" alt=\"Open In Colab\"/></a>"
      ]
    },
    {
      "cell_type": "code",
      "metadata": {
        "id": "pXwKlWv0IMQK",
        "outputId": "e55ab55c-fa1c-4b80-b701-dec65b63f7c0",
        "colab": {
          "base_uri": "https://localhost:8080/",
          "height": 34
        }
      },
      "source": [
        "#@markdown #install NAMD\n",
        "#@markdown #####A NAMD binary distribution need only be untarred or unzipped and can be run directly in the resulting directory.  When building from source code (see \"Compiling NAMD\" below), \"make release\" will generate a self-contained directory and .tar.gz or .zip archive that can be moved to the desired installation location.  Windows and CUDA builds include Tcl .dll and CUDA .so files that must be in the dynamic library path.\n",
        "\n",
        "\n",
        "from google.colab import drive\n",
        "drive.mount('/content/drive')"
      ],
      "execution_count": 2,
      "outputs": [
        {
          "output_type": "stream",
          "text": [
            "Mounted at /content/drive\n"
          ],
          "name": "stdout"
        }
      ]
    },
    {
      "cell_type": "code",
      "metadata": {
        "id": "wY4MlfkGIdl2"
      },
      "source": [
        "!mkdir /content/NAMD\n",
        "!tar -xf \"/content/drive/My Drive/NAMD_2.14_Linux-x86_64-multicore-CUDA.tar.gz\" -C /content/NAMD\n",
        "!mv /content/NAMD/NAMD_2.14_Linux-x86_64-multicore-CUDA/* /content/NAMD/\n",
        "%cd /content/\n",
        "!wget https://amarolab.ucsd.edu/files/covid19/PSF-PDB_spike_closed_prot_glyc_memb_wat_ions_amarolab.tar.gz\n",
        "!tar -xf PSF-PDB_spike_closed_prot_glyc_memb_wat_ions_amarolab.tar.gz\n"
      ],
      "execution_count": null,
      "outputs": []
    },
    {
      "cell_type": "code",
      "metadata": {
        "id": "BYZJzEMqTjKQ",
        "outputId": "573f6688-de12-47f6-8d4b-57aa05b573e0",
        "colab": {
          "base_uri": "https://localhost:8080/",
          "height": 34
        }
      },
      "source": [
        "%cd /content/NAMD"
      ],
      "execution_count": 24,
      "outputs": [
        {
          "output_type": "stream",
          "text": [
            "/content/NAMD\n"
          ],
          "name": "stdout"
        }
      ]
    },
    {
      "cell_type": "code",
      "metadata": {
        "id": "4Inp_bu-SJWL",
        "outputId": "4661ed3d-8532-4459-aaec-46823c333527",
        "colab": {
          "base_uri": "https://localhost:8080/",
          "height": 272
        }
      },
      "source": [
        "!ls -lra"
      ],
      "execution_count": 25,
      "outputs": [
        {
          "output_type": "stream",
          "text": [
            "total 247548\n",
            "-rwxr-xr-x  1 14522 1004    302680 Aug 24 15:11 sortreplicas\n",
            "-rw-r--r--  1 14522 1004      1464 Aug 24 15:11 README.txt\n",
            "-rwxr-xr-x  1 14522 1004   1903984 Aug 24 15:11 psfgen\n",
            "-rw-r--r--  1 14522 1004     42080 Aug 24 15:11 notes.txt\n",
            "drwxr-xr-x  2 14522 1004      4096 Oct 21 13:14 NAMD_2.14_Linux-x86_64-multicore-CUDA\n",
            "-rwxr-xr-x  1 14522 1004 251137864 Aug 24 15:11 namd2\n",
            "-rw-r--r--  1 14522 1004     10543 Aug 24 15:11 license.txt\n",
            "drwxr-xr-x 12 14522 1004      4096 Aug 24 15:11 lib\n",
            "-rwxr-xr-x  1 14522 1004     27216 Aug 24 15:11 flipdcd\n",
            "-rwxr-xr-x  1 14522 1004     23000 Aug 24 15:11 flipbinpdb\n",
            "-rwxr-xr-x  1 14522 1004       578 Aug 24 15:11 charmrun\n",
            "-rw-r--r--  1 14522 1004      2426 Aug 24 15:11 announce.txt\n",
            "drwxr-xr-x  1 root  root      4096 Oct 21 13:10 ..\n",
            "drwxr-xr-x  4 root  root      4096 Oct 21 13:14 .\n"
          ],
          "name": "stdout"
        }
      ]
    },
    {
      "cell_type": "code",
      "metadata": {
        "id": "2hh3WCqHRS-e"
      },
      "source": [
        "!wget https://amarolab.ucsd.edu/files/covid19/PSF-PDB_spike_open_prot_glyc_memb_wat_ions_amarolab.tar.gz"
      ],
      "execution_count": null,
      "outputs": []
    }
  ]
}