{
  "nbformat": 4,
  "nbformat_minor": 0,
  "metadata": {
    "colab": {
      "name": "ANM.ipynb",
      "provenance": [],
      "authorship_tag": "ABX9TyMM5pX2l8+Q/jXcjjslOizk",
      "include_colab_link": true
    },
    "kernelspec": {
      "name": "python3",
      "display_name": "Python 3"
    }
  },
  "cells": [
    {
      "cell_type": "markdown",
      "metadata": {
        "id": "view-in-github",
        "colab_type": "text"
      },
      "source": [
        "<a href=\"https://colab.research.google.com/github/ssgalitsky/NMA/blob/main/ANM.ipynb\" target=\"_parent\"><img src=\"https://colab.research.google.com/assets/colab-badge.svg\" alt=\"Open In Colab\"/></a>"
      ]
    },
    {
      "cell_type": "code",
      "metadata": {
        "id": "jPXvkePS3wOk"
      },
      "source": [
        "#@markdown ## install dependencies\n"
      ],
      "execution_count": null,
      "outputs": []
    }
  ]
}