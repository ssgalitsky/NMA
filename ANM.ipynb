{
  "nbformat": 4,
  "nbformat_minor": 0,
  "metadata": {
    "colab": {
      "name": "ANM.ipynb",
      "provenance": [],
      "authorship_tag": "ABX9TyO/vJilRpc3y7W3sgI3VYKN",
      "include_colab_link": true
    },
    "kernelspec": {
      "name": "python3",
      "display_name": "Python 3"
    }
  },
  "cells": [
    {
      "cell_type": "markdown",
      "metadata": {
        "id": "view-in-github",
        "colab_type": "text"
      },
      "source": [
        "<a href=\"https://colab.research.google.com/github/ssgalitsky/NMA/blob/main/ANM.ipynb\" target=\"_parent\"><img src=\"https://colab.research.google.com/assets/colab-badge.svg\" alt=\"Open In Colab\"/></a>"
      ]
    },
    {
      "cell_type": "code",
      "metadata": {
        "id": "jPXvkePS3wOk",
        "cellView": "form"
      },
      "source": [
        "#@markdown ## install dependencies\n",
        "!pip install prody\n"
      ],
      "execution_count": null,
      "outputs": []
    },
    {
      "cell_type": "code",
      "metadata": {
        "id": "mGRNNaQU5cnl",
        "cellView": "form",
        "outputId": "2423ad13-7f36-4f66-b649-e009f49ec98b",
        "colab": {
          "base_uri": "https://localhost:8080/",
          "height": 51
        }
      },
      "source": [
        "from prody import *\n",
        "from pylab import *\n",
        "ion()\n",
        "\n",
        "#@markdown ##SARS-CoV-2 spike glycoprotein (closed state)\n",
        "#@markdown #####For the closed state structure (6vxx, 438:53kDa, Atom Count: 23694 atoms, 2916 residues) \n",
        "spike = parsePDB('6vxx')\n"
      ],
      "execution_count": 17,
      "outputs": [
        {
          "output_type": "stream",
          "text": [
            "@> PDB file is found in working directory (6vxx.pdb.gz).\n",
            "@> 23694 atoms and 1 coordinate set(s) were parsed in 0.21s.\n"
          ],
          "name": "stderr"
        }
      ]
    },
    {
      "cell_type": "code",
      "metadata": {
        "id": "wljiPjQO585Y",
        "cellView": "both",
        "outputId": "71c6c25a-956a-4dd7-aec0-7d5f5ca723ae",
        "colab": {
          "base_uri": "https://localhost:8080/",
          "height": 34
        }
      },
      "source": [
        "#@markdown ##limit analysis by Calphas (Cα’s) only\n",
        "calphas = spike.select('protein and name CA')\n",
        "#calphas = spike.select('protein')\n",
        "print(\"atoms total: \",calphas.numAtoms())\n"
      ],
      "execution_count": 24,
      "outputs": [
        {
          "output_type": "stream",
          "text": [
            "atoms total:  2916\n"
          ],
          "name": "stdout"
        }
      ]
    },
    {
      "cell_type": "code",
      "metadata": {
        "id": "RUVHXYov6fF5",
        "cellView": "form",
        "outputId": "05747013-3103-47dc-82f7-079b6db3f4e2",
        "colab": {
          "base_uri": "https://localhost:8080/",
          "height": 153
        }
      },
      "source": [
        "#@markdown ##conduct ANM analysis\n",
        "anm = ANM('6vxx ANM analysis')\n",
        "\n",
        "#@markdown ####build the Hessian matrix by passing selected atoms (Cα’s) to ANM.buildHessian() method\n",
        "#anm.buildHessian(calphas,cutoff=15.0, gamma=1.0, sparse=True)\n",
        "anm.buildHessian(calphas,cutoff=15.0, gamma=1)\n",
        "\n",
        "anm.calcModes(50,False,True)\n",
        "anm.getEigvals().round(3)\n",
        "\n",
        "#@markdown ######For PCA and EDA models built using coordinate data in Å, unit of eigenvalues is Å2. For ANM, GNM, and RTB, on the other hand, eigenvalues are in arbitrary or relative units but they correlate with stiffness of the motion along associated eigenvector."
      ],
      "execution_count": 19,
      "outputs": [
        {
          "output_type": "stream",
          "text": [
            "@> Hessian was built in 2.29s.\n",
            "@> 50 modes were calculated in 59.73s.\n"
          ],
          "name": "stderr"
        },
        {
          "output_type": "execute_result",
          "data": {
            "text/plain": [
              "array([0.055, 0.055, 0.08 , 0.097, 0.097, 0.102, 0.102, 0.102, 0.161,\n",
              "       0.199, 0.211, 0.211, 0.242, 0.295, 0.295, 0.321, 0.335, 0.335,\n",
              "       0.375, 0.375, 0.383, 0.39 , 0.39 , 0.423, 0.486, 0.49 , 0.49 ,\n",
              "       0.513, 0.513, 0.515, 0.583, 0.584, 0.591, 0.625, 0.625, 0.651,\n",
              "       0.651, 0.684, 0.718, 0.718, 0.75 , 0.765, 0.766, 0.795, 0.836,\n",
              "       0.836, 0.879, 0.911, 0.911, 0.946])"
            ]
          },
          "metadata": {
            "tags": []
          },
          "execution_count": 19
        }
      ]
    },
    {
      "cell_type": "code",
      "metadata": {
        "id": "R2RBunzm6mye",
        "cellView": "form",
        "outputId": "ab5e4f58-02b7-4f36-99eb-22356be8e065",
        "colab": {
          "base_uri": "https://localhost:8080/",
          "height": 170
        }
      },
      "source": [
        "import math\n",
        "import numpy as np\n",
        "#@markdown ##eigenfrequencies, relative units\n",
        "anm_cm=np.sqrt(anm.getEigvals())\n",
        "#anm_cm=np.sqrt(anm.getEigvals()/13.2)\n",
        "print(anm_cm)\n",
        "\n"
      ],
      "execution_count": 23,
      "outputs": [
        {
          "output_type": "stream",
          "text": [
            "[0.23468253 0.23468828 0.28319328 0.31121416 0.31122017 0.31940756\n",
            " 0.32008652 0.32014605 0.40135038 0.4461412  0.45985899 0.4598628\n",
            " 0.49212468 0.54274674 0.54275824 0.56669484 0.5783668  0.57837303\n",
            " 0.6122022  0.61220718 0.61909611 0.62415869 0.6241654  0.65054352\n",
            " 0.69706561 0.699826   0.69983632 0.71610688 0.71611011 0.71756038\n",
            " 0.76386624 0.7638734  0.76859469 0.79074333 0.79075813 0.80664583\n",
            " 0.80666059 0.82723871 0.84734184 0.8473565  0.86598461 0.87491132\n",
            " 0.87494281 0.89148567 0.91449472 0.91450795 0.93730205 0.95452845\n",
            " 0.95455446 0.97282599]\n"
          ],
          "name": "stdout"
        }
      ]
    },
    {
      "cell_type": "code",
      "metadata": {
        "id": "vJ8ftOk6E69P",
        "cellView": "form",
        "outputId": "1306c33a-6228-402d-a3e7-d0b19232de4f",
        "colab": {
          "base_uri": "https://localhost:8080/",
          "height": 35
        }
      },
      "source": [
        "#@markdown ##Write NMD file\n",
        "#@markdown #####ANM results in NMD format can be visualized using Normal Mode Wizard VMD plugin. The following statement writes the slowest 3 ANM modes into an NMD file:\n",
        "#writeNMD('6vxx.nmd', anm[:3], calphas)\n",
        "writeNMD('6vxx.nmd', anm, calphas)"
      ],
      "execution_count": null,
      "outputs": [
        {
          "output_type": "execute_result",
          "data": {
            "application/vnd.google.colaboratory.intrinsic+json": {
              "type": "string"
            },
            "text/plain": [
              "'6vxx.nmd'"
            ]
          },
          "metadata": {
            "tags": []
          },
          "execution_count": 10
        }
      ]
    }
  ]
}